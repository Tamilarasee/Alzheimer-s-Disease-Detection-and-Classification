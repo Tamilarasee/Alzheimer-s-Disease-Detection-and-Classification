{
  "cells": [
    {
      "cell_type": "markdown",
      "metadata": {
        "id": "Z7_hx8SJJR4-"
      },
      "source": [
        "# Assignment 2 - Logistic Regression & Naive Bayes\n",
        "\n",
        "Due by 11:59pm, March 23, 2023\n",
        "\n",
        "Name: Tamilarasee Sethuraj\n",
        "\n",
        "ID: A20553416"
      ]
    },
    {
      "cell_type": "markdown",
      "metadata": {
        "id": "pyGrk2X_J_1h"
      },
      "source": [
        "## Theory Questions (Full points: 40, each question 5 points)"
      ]
    },
    {
      "cell_type": "markdown",
      "metadata": {
        "id": "b8OnMEI0JXxA"
      },
      "source": [
        "**1. Explain the importance of setting up learning rate in the gradient descent based methods. For example, what would happen if the learning rate is too large/small?**"
      ]
    },
    {
      "cell_type": "markdown",
      "metadata": {
        "id": "uv3iz5dBJX7Z"
      },
      "source": [
        "**Answer:**\n",
        "\n",
        "Gradient descent is used to find the appropriate values of the parameters (theta) such that we get a minimum possible cost function in a machine learning algorithm. In order to bring the paramerters closer to the appropriate value, we update the parameters based on the product of the gradient descent value and a learning parameter. Whie gradient descent which is the slope of the cost curve helps to determine the direction (+ve/-ve) in which we should update our parameters, the learning rate determines how big/small (size) is the step in that direction determined by GD.\n",
        "\n",
        "Learning rate helps to know the scale at which the parameter gets varied at every update. If the learning parameter is too low, then we take very small steps towards the minimum cost and hence we reach the minimum value very slowly and we might not even reach the minimum if we have less number of epochs/iterations of update. So, it may need more time (slower convergence) and a large number of epochs to reach the minimum. We may also get stuck at the local minimum instead of reaching the global minimum because once we are in th eminimum, GD does not provide any direction and does not let us move further.\n",
        "\n",
        "If the learning parameter is too high, then we take very big steps(overshoot) that we might jump around the minimum cost but may not reach the minimum cost as we keep varying the parameters and the value updates on larger scale in the alternate directions given by GD and hence we may never reach the minimum value leading to divergence.\n",
        "\n",
        "It is always better to have an optimal value of learning rate which can be found by triail/error method or other dynamic techniques so that we reach(converge) the minimum cost at appropriate pace (possibly faster).\n"
      ]
    },
    {
      "cell_type": "markdown",
      "metadata": {
        "id": "wO8kErgCJX-P"
      },
      "source": [
        "**2. What is the stochastic gradient descent? Why do we need stochastic gradient descent?**"
      ]
    },
    {
      "cell_type": "markdown",
      "metadata": {
        "id": "nEviYAL2JeWs"
      },
      "source": [
        "**Answer:**\n",
        "\n",
        "1. The Stochastic gradient descent is a method in which we update the parameter value after reviewing a randomly chosen single sample point at a time.\n",
        "2. Batch/vanilla gradient descent is a method which gets the feedback of all the training samples before it makes a direction decision to move. It reviews all the samples and then deicides the direction to move which is given to the parameter update rule for every step/update. This slows down the process of moving towards the minimum and take more time.\n",
        "3. In Stochastic gradient, as soon as we see a random training sample, the parameter is updated based on the feedback of this sample and then from the next updated step, a different random sample is used to direct the learning of the model. This randomness helps to explore the nature of the training samples and ensures that it doesnt get stuck at local minimum. \n",
        "4. Since we see one sample at a time, we may avoid overfitting the model thereby a new testing data could be efficiently predicted in this model.\n",
        "5. Although this approach of stochastic GD may result in random/wild oscillations of the direction, it would definetly progress towards the minimum cost since we choose samples differently each time and the progress is faster than the Batch GD.\n",
        "\n",
        "Thus stochastic GD is needed to converge faster (reach the minimum cost) by taking less time to decide the direction of the path especially for larger training sets."
      ]
    },
    {
      "cell_type": "markdown",
      "metadata": {
        "id": "9vQD3sgwJYBS"
      },
      "source": [
        "**3. Explain the reasons to perform feature scaling.**"
      ]
    },
    {
      "cell_type": "markdown",
      "metadata": {
        "id": "t-e37RdDJfmd"
      },
      "source": [
        "**Answer:**\n",
        "\n",
        "Feature scaling is used to bring all the features to the similar scale range by using the  method of mean normalization/standardization.\n",
        "\n",
        "$$𝑥_{𝑖}^𝑟 = \\frac{(𝑥_{𝑖}^𝑟 − 𝑚_{𝑖})}{𝜎_{𝑖}} $$\n",
        "\n",
        "where x is one of the feature of a given sample and 𝑚 and 𝜎 are the mean and standard deviation of that feature.\n",
        "\n",
        "We can also use the formula, $$X = \\frac{X − min(X)}{max(X) - min(X)} $$\n",
        "\n",
        "\n",
        "Feature scaling helps in making sure that every feature irrespective of their value ranges contributes equally to the progression of the model which provides better testing accuracy.\n",
        "\n",
        "Feature scaling helps in enhancing the speed of convergence. Say if there are 2 parameters , one of high value ranges and another of less range , then the loss function plots are skinny and lengthier which result in slowing down the gradient algorithm from reaching the minimum(center).If we could scale the parameters to have equal(apprx same) ranges/intervals, the function would be much more circular and the gradient can reach the min center in fewer steps. It also helps in better visualization and interpretation of the function. Also, when we use regularization in the model, it may not penalize the appropriate features without scaling them.\n",
        " \n",
        "\n"
      ]
    },
    {
      "cell_type": "markdown",
      "metadata": {
        "id": "dOqhvEpuJYEX"
      },
      "source": [
        "**4. What is the probabilistic generative model?**"
      ]
    },
    {
      "cell_type": "markdown",
      "metadata": {
        "id": "rf5JjDFDJe6G"
      },
      "source": [
        "**Answer:**\n",
        "\n",
        "Probabilistic generative model is one which implements the generative model approach where we model the joint distribution p(x,Ck) directly [which involves finding the p(x|C) and p(C)] and then normalize to obtain the posterior possibilities p(C|x). We then use the decision theory to determine class membership for each new input x through Bayes’ theorem.\n",
        "\n",
        "Given an x, which of the 2 classes does it belong to \n",
        "$$ 𝑃(𝐶_1 | 𝑥) =\\frac{𝑃(𝑥|𝐶_1 )𝑃(𝐶_1 )}{𝑃(𝑥|𝐶_1 )𝑃(𝐶_1 )+𝑃(𝑥|𝐶_2 )𝑃(𝐶_2 )}$$\n",
        "\n",
        "\n",
        "Generative Model ,\n",
        "\n",
        "$$𝑃(𝑥) = 𝑃(𝑥|𝐶_1 )𝑃(𝐶_1 )+𝑃(𝑥|𝐶_2 )𝑃(𝐶_2 )$$\n",
        "\n",
        "A generative model describes how a dataset is generated, in terms of a probabilistic model.Thus,the probabilistic generative model provides a framework for understanding the underlying probability distributions of the data and enables us to make probabilistic predictions and generate new data points by sampling new data points that resemble the original dataset."
      ]
    },
    {
      "cell_type": "markdown",
      "metadata": {
        "id": "W8V802XDJjxe"
      },
      "source": [
        "**5. Explain how we perform maximum likelihood.**"
      ]
    },
    {
      "cell_type": "markdown",
      "metadata": {
        "id": "S3PrgB7kJl99"
      },
      "source": [
        "**Answer:**\n",
        "\n",
        "Probability of data is given by p(y|X; θ) which is probability of y given x parametrized by theta. Likelihood function is given by L(θ; X, y) in which the data is given/made fixed, while we see it as a function of parameter. Here, we try to find the values of the parameter for a given input and output.\n",
        "\n",
        "The principal of maximum likelihood says that we should choose parameters(θ) so as to make the data as high probability as possible. I.e., we should choose θ to maximize L(θ).Thus, maximum likelihood estimation involves finding the parameter values that maximize the likelihood of observing the given data, and it is commonly performed by maximizing the log-likelihood function for simplicity and ease of computation.\n",
        "\n",
        "Instead of maximizing L(θ), we can also maximize any strictly increasing function of L(θ). In particular, the derivations will be a bit simpler if we\n",
        "instead maximize the log likelihood l(θ). Therefore, maximum likelihood estimations are done by taking the logarithm of the likelihood and equating the derivative to be zero. Using this equation, we find the parameters of the equation.\n",
        "\n"
      ]
    },
    {
      "cell_type": "markdown",
      "metadata": {
        "id": "3kUcM98LJj9N"
      },
      "source": [
        "**6. Explain the reasons about using cross entropy loss in logistic regression.**"
      ]
    },
    {
      "cell_type": "markdown",
      "metadata": {
        "id": "xuECRF2PJk81"
      },
      "source": [
        "**Answer:**\n",
        "\n",
        "In logistic regression, we use probablistic approach of classifying the ouput. If there are multiple classes, then we find the probablistic distribution of each class being the ouput for a given set of features. Now, when we compare this distribution with the original output, the comparision is between two (bernoulli) distributions and we wanted to minimize the gap between then. \n",
        "\n",
        "Comparsion between two distribution represents the cross entropy and we would like to reduce the distance between the distribution and hence we use the cross entropy loss minimization in logistic regression.\n",
        "\n",
        "Another reason why we do not use Mean square error as in linear regression is because the derivative of the MSE becomes zero as the ouput involves classification between values 0 and 1. \n",
        "\n",
        "Cross entropy formula is esentially the logarithm of the maximum likelihood function. If we use the maximimum likelihood funtion directly, we would have to focus on maximizing the function and  gradient ascent method instead of descent. In our upcoming model, we use the approach of taking negative of the log (maximum likelihood) and find parameters to minimize it.\n",
        "\n",
        "Maximim likelihood , $$L(\\theta) = 𝑦𝑓(𝑥 )+(1−𝑦 )(1−𝑓(𝑥 ))$$\n",
        "\n",
        "Negative log likelihood, $$l(\\theta) = - [𝑦.log (𝑓(𝑥 ))+(1−𝑦 ). log((1−𝑓(𝑥 )))]$$\n",
        "\n",
        "where,\n",
        "$$ f(x) = \\sigma(z)=\\frac{1}{1+e^{-z}}$$\n",
        "$$z =\\sum \\limits _{i=1} ^{m} w_{i}x_{i} + bias $$"
      ]
    },
    {
      "cell_type": "markdown",
      "metadata": {
        "id": "q8bCRVRaJkBP"
      },
      "source": [
        "**7. Explain the differences between discriminative and generative model.**\n"
      ]
    },
    {
      "cell_type": "markdown",
      "metadata": {
        "id": "YEdAdRiu1ksO"
      },
      "source": [
        "**Answer:**\n",
        "\n",
        "Generative model:\n",
        "\n",
        "1. Approaches that explicitly or implicitly model the distribution of inputs as well as outputs are known as generative models, because by sampling from them it is possible to generate synthetic data points in the input space.\n",
        "2. In generative model, since use probability distribution, less training data is needed and it is more robust to the noise.\n",
        "3. Priors and class-dependent probabilities can be estimated from different sources.\n",
        "4. Generative model has more application besides classification as well.\n",
        "\n",
        "\n",
        "\n",
        "Discriminative model:\n",
        "\n",
        "1. First solve the inference problem of determining the posterior class probabilities p(Ck|x), and then subsequently use decision theory to assign each new x to one of the classes. Approaches that model the posterior probabilities directly are called discriminative models\n",
        "2. Discriminative model is more often used only for classification problem as it discriminates between classes.\n",
        "3. In discriminative models, to find the probability, the model directly assume some functional form for P(Y|X) and then estimate the parameters of P(Y|X) with the help of the training data.\n",
        "4. Discriminative Model uses a decision boundary between classes\n",
        "\n",
        "\n",
        "\n",
        "For larger datasets,discrminative model would help as it is acceptable to make weaker assumption and let the algorithm decide further towards the output, as we have a lot of data.For smaller datasets, Generative would be the computationally efficient option but the we have to make the assumption correctly whether the distribution is gaussian or Poisson, because the strong wrong assumption would definitely perform poorly.\n",
        "\n",
        "Generative is computationally efficient because there is no iterative process involved, it just needs the means and covariance calculated.Generative model works well on datasets with missing data as well as it is generative than the discriminativeone.\n"
      ]
    },
    {
      "cell_type": "markdown",
      "metadata": {
        "id": "dcZpkIc01Rwe"
      },
      "source": [
        "**8. What is N-folds? Explain the reasons why we need N-folds.**"
      ]
    },
    {
      "cell_type": "markdown",
      "metadata": {
        "id": "M-h519EbJmbz"
      },
      "source": [
        "**Answer:**\n",
        "\n",
        "N folds refers to the cross-Validation which is a technique for evaluating the performance of a given data model. We can run the technique on various models and pick the most appropriate model based on the performance comparison\n",
        "\n",
        "Steps:\n",
        "\n",
        "1. Reaarange the given dataset randomly\n",
        "2. Split the dataset into N equal folds(groups)\n",
        "3. Pick one fold as Test Set and consider the remaining N-1 folds as Training Set\n",
        "4. Pick a model to evaluate and fit it on the Training Set, validate on the Test Set and save the validation score and discard the model\n",
        "5. Repeat the steps 3 & 4 N times for the same model, but pick a different fold as Test set each time such that every sample had the chance to be on the Test set once and on the training set for N-1 times.\n",
        "6. The average of N validation results is the final score for a given model.\n",
        "7. Repeat the same for different models and compare the average scores of every model to identify the best model for the machine.\n",
        "\n",
        "Reasons:\n",
        "\n",
        "1. Performing N-fold cross validation helps to evaluate how our model performs as we use different sets/folds to train the model each time and a different fold for assessing the performance.\n",
        "2. This can be done across different models and we can use the average accuracy score of each model to evaluate which is the bets model for our dataset.\n",
        "3. Since the framing of folds involve randomness, it helps to get a more reliable/general and distributed sense of the performance and how it would perform on unseen data thereby avaoiding overfitting the model.\n",
        "4. Every sample is used for both training and validation at some point of time in the process of our performance evaluation thereby maximizing the utilization of the available data.\n",
        "\n",
        "\n",
        "\n"
      ]
    },
    {
      "cell_type": "markdown",
      "metadata": {
        "id": "8AiWTVDf7cZ2"
      },
      "source": [
        "## Programming Questions (Full points: 60, each question 30 points)"
      ]
    },
    {
      "cell_type": "code",
      "execution_count": 1,
      "metadata": {
        "id": "hUXdV3L376cA"
      },
      "outputs": [],
      "source": [
        "# Do not edit the codes in this cell\n",
        "# load required library\n",
        "import matplotlib.pyplot as plt\n",
        "import numpy as np\n",
        "from sklearn.datasets import load_wine\n",
        "# load dataset\n",
        "x, y = load_wine(return_X_y=True)\n"
      ]
    },
    {
      "cell_type": "markdown",
      "metadata": {
        "id": "8iwaee_T-Urj"
      },
      "source": [
        "### - Logistic Regression"
      ]
    },
    {
      "cell_type": "markdown",
      "metadata": {
        "id": "zyrt2Ka7VFYK"
      },
      "source": [
        "0. train_test_split (Done in the below cell)\n",
        "\n",
        "We **randomly** split data into train and test set. The number of training data and testing data is 100 and 30, respectively. Do not modify the split data. You need to use training data to train your model and obtain an optimal solution. Finally, using your model with the optimal solution to predict the testing data. "
      ]
    },
    {
      "cell_type": "code",
      "execution_count": 2,
      "metadata": {
        "id": "9M1DAu9XPY8E"
      },
      "outputs": [
        {
          "name": "stdout",
          "output_type": "stream",
          "text": [
            "(100, 13) (100,) (30, 13) (30,)\n"
          ]
        }
      ],
      "source": [
        "# Do not edit the codes in this cell\n",
        "# We split train and test data for logistic regression function\n",
        "\n",
        "test_lists = [0, 4, 5, 7, 13, 15, 19, 27, 28, 30, 31, 34, 39, 47, 63, 74, 78, 83, 90, 92, 95, 97, 103, 113, 119, 122, 123, 125, 126, 127]\n",
        "\n",
        "x = x[:130, :]\n",
        "y = y[:130]\n",
        "\n",
        "# original dataset has 3 classes (0,1,2) only upto 130 is taken for assignment so as to colect only data of class 0 and 1 from the dataset, \n",
        "\n",
        "# training data: you can use it to training your model.\n",
        "train_x = np.array([sub_x for index, sub_x in enumerate(x) if index not in test_lists])\n",
        "train_y = np.array([sub_y for index, sub_y in enumerate(y) if index not in test_lists])\n",
        "\n",
        "# testing data: ONLY use it to measure your model, do NOT use during training.\n",
        "test_x = np.array([sub_x for index, sub_x in enumerate(x) if index in test_lists])\n",
        "test_y = np.array([sub_y for index, sub_y in enumerate(y) if index in test_lists])\n",
        "\n",
        "# print(len(train_x[1])) - 13 features\n",
        "# load_wine().feature_names\n",
        "# load_wine().DESCR\n",
        "print(train_x.shape,train_y.shape,test_x.shape,test_y.shape)\n"
      ]
    },
    {
      "cell_type": "markdown",
      "metadata": {
        "id": "4LdQ5yubLJld"
      },
      "source": [
        "In the assignment 2, you have more freedom on your programming design. In this part, you are going to implement your own Logistic Regression function. You need to implement logistic regression with stochastic gradient descent from scratch. The required functions are listed below. You can add more functions as you need. **No library versions of logistic regression are allowed**. \n",
        "_________\n",
        "\n",
        "1. train_val_split\n",
        "\n",
        "**Randomly** split training data into train and val set. 80% of the training data will be the train set and 20% of the training data will be the val set.\n",
        "\n",
        "2. normalization (data preprocessing)\n",
        "\n",
        "You should normalize all data for each attribute firstly. \n",
        "\n",
        "3. sigmoid\n",
        "\n",
        "The core of logistic regression\n",
        "\n",
        "4. predict\n",
        "\n",
        "Predict an output value for a given x with a set of coefficients. \n",
        "\n",
        "5. accurate\n",
        "\n",
        "Calculate accuracy percentage of the predictions.\n",
        "\n",
        "6. coef_gd\n",
        "\n",
        "Estimate logistic regression coefficients using **vanilla gradient descent**. Using **the cross entropy loss**. Carefully choose learning rate and epochs values.\n",
        "\n",
        "7. draw_model\n",
        "\n",
        "a) Plot the both training loss and validation loss for each epochs.\n",
        "\n",
        "b) Plot the both training accuracy and validation accuracy for each epochs. \n",
        "\n",
        "8. predict the testing data\n",
        "\n",
        "Use your pre-trained model to predict the testing data. Print out your **testing accurate**. Is it good? If not, analyze the reason in short and modify your code to improve.  \n"
      ]
    },
    {
      "cell_type": "markdown",
      "metadata": {},
      "source": [
        "1. train_val_split\n",
        "\n",
        "**Randomly** split training data into train and val set. 80% of the training data will be the train set and 20% of the training data will be the val set."
      ]
    },
    {
      "cell_type": "code",
      "execution_count": 3,
      "metadata": {
        "id": "6AHamaj3f5xY"
      },
      "outputs": [
        {
          "name": "stdout",
          "output_type": "stream",
          "text": [
            "(80, 13) (80, 1) (20, 13) (20, 1)\n"
          ]
        }
      ],
      "source": [
        "# data split without scikit library\n",
        "\n",
        "def train_val_split(train_x,train_y):\n",
        "    \n",
        "    # import random\n",
        "    # # fixing a random seed for better interpretation, can remove if needed\n",
        "    # random.seed(50)  \n",
        "    # num_cases = len(train_y)\n",
        "    # num_val_set = int(num_cases*0.2)\n",
        "    # val_set_indices = []    \n",
        "    # count = 1\n",
        "\n",
        "    # while(count<=num_val_set):\n",
        "    #     index = random.randint(0,num_cases-1)       \n",
        "    #     if index not in val_set_indices:\n",
        "    #         val_set_indices.append(index)            \n",
        "    #         count+=1\n",
        "    \n",
        "\n",
        "    # val_set_x = np.array([value for index, value in enumerate(train_x) if index in val_set_indices])\n",
        "    # val_set_y = np.array([value for index, value in enumerate(train_y) if index in val_set_indices])\n",
        "        \n",
        "    # train_set_x = np.array([value for index, value in enumerate(train_x) if index not in val_set_indices])\n",
        "    # train_set_y = np.array([value for index, value in enumerate(train_y) if index not in val_set_indices])\n",
        "        \n",
        "\n",
        "    # # print(num_cases,len(val_set_x),len(val_set_y),len(train_set_x),len(train_set_y))\n",
        "    # # print(val_set_indices)\n",
        "    \n",
        "\n",
        "    from sklearn.model_selection import train_test_split\n",
        "    train_set_x, val_set_x, train_set_y, val_set_y = train_test_split(train_x, train_y, test_size=0.2, random_state=1)\n",
        "    train_set_y = train_set_y.reshape(-1,1)\n",
        "    val_set_y = val_set_y.reshape(-1,1)\n",
        "\n",
        "    return train_set_x,train_set_y,val_set_x,val_set_y\n",
        "\n",
        "\n",
        "train_set_x,train_set_y,val_set_x,val_set_y = train_val_split(train_x,train_y)\n",
        "print(train_set_x.shape,train_set_y.shape,val_set_x.shape,val_set_y.shape)\n",
        "\n",
        "# using scikit library\n",
        "# from sklearn.model_selection import train_test_split\n",
        "# train_set_x, val_set_x, train_set_y, val_set_y = train_test_split(train_x, train_y, test_size=0.2, random_state=42)\n"
      ]
    },
    {
      "cell_type": "markdown",
      "metadata": {},
      "source": [
        "2. normalization (data preprocessing)\n",
        "\n",
        "You should normalize all data for each attribute firstly. "
      ]
    },
    {
      "cell_type": "code",
      "execution_count": 4,
      "metadata": {},
      "outputs": [],
      "source": [
        "# biasing any feature vector\n",
        "\n",
        "def bias(feature_vector):\n",
        "    biased_feature_vector = np.concatenate((np.ones((feature_vector.shape[0],1)),feature_vector),axis=1)\n",
        "    return biased_feature_vector"
      ]
    },
    {
      "cell_type": "code",
      "execution_count": 5,
      "metadata": {},
      "outputs": [],
      "source": [
        "# Feature scaling per formula\n",
        "def normalize(biased_feature_vector):\n",
        "    \n",
        "    mean = np.mean(biased_feature_vector,axis=0)\n",
        "    std = np.std(biased_feature_vector,axis=0)\n",
        "    epsilon = 1e-8\n",
        "    normalized_feature_vector = ( biased_feature_vector - mean ) / (std +epsilon)\n",
        "    # we use epsilon to handle the runtime warning of zero deniminator\n",
        "    return normalized_feature_vector\n",
        "\n",
        "\n"
      ]
    },
    {
      "cell_type": "code",
      "execution_count": 6,
      "metadata": {},
      "outputs": [
        {
          "name": "stdout",
          "output_type": "stream",
          "text": [
            "(80, 13) (80, 1) (20, 13) (20, 1) (80, 14) (80, 14)\n"
          ]
        }
      ],
      "source": [
        "# Split,bias and normalize using respective functions\n",
        "\n",
        "train_set_x,train_set_y,val_set_x,val_set_y = train_val_split(train_x,train_y)\n",
        "train_set_x_biased = bias(train_set_x)\n",
        "train_set_x_normalized = normalize(train_set_x_biased)\n",
        "print(train_set_x.shape,train_set_y.shape,val_set_x.shape,val_set_y.shape,train_set_x_biased.shape,train_set_x_normalized.shape)\n",
        "\n",
        "\n"
      ]
    },
    {
      "cell_type": "markdown",
      "metadata": {},
      "source": [
        "3. sigmoid\n",
        "\n",
        "The core of logistic regression\n",
        "$$z =\\sum \\limits _{i=1} ^{m} w_{i}x_{i} + bias $$\n",
        "$$ \\sigma(z)=\\frac{1}{1+e^{-z}}$$\n",
        "\n",
        "\n",
        "$w_i$ represents the learnable parameters(theta) and bias represent $\\theta_0$. Sigmoid functions helps to limit the ouput between 0 and 1."
      ]
    },
    {
      "cell_type": "code",
      "execution_count": 7,
      "metadata": {},
      "outputs": [],
      "source": [
        "# hypothesis(z) and sigmoid function together\n",
        "\n",
        "\n",
        "def sigmoid(z):        \n",
        "    return 1 / (1 + np.exp(-z))  "
      ]
    },
    {
      "cell_type": "markdown",
      "metadata": {},
      "source": [
        "4. predict\n",
        "\n",
        "Predict an output value for a given x with a set of coefficients. "
      ]
    },
    {
      "cell_type": "code",
      "execution_count": 8,
      "metadata": {},
      "outputs": [],
      "source": [
        "\n",
        "# get the sigmoid vlaue and categorize classes 0 and 1\n",
        "\n",
        "def predict(lr_theta,feature_vector_normalized):\n",
        "    z = feature_vector_normalized.dot(lr_theta)\n",
        "    predicted_y_sigmoid = sigmoid(z)\n",
        "    predicted_y = (predicted_y_sigmoid > 0.5).astype(int)\n",
        "    # predicted_y = np.array([1 if value>0.5 else 0 for value in predicted_y_sigmoid ])\n",
        "    # predicted_y = predicted_y.reshape(-1,1)\n",
        "    return predicted_y\n"
      ]
    },
    {
      "cell_type": "code",
      "execution_count": 9,
      "metadata": {},
      "outputs": [
        {
          "name": "stdout",
          "output_type": "stream",
          "text": [
            "(80, 1)\n",
            "(80, 1)\n"
          ]
        }
      ],
      "source": [
        "# random theta/weights intialization\n",
        "\n",
        "n = train_set_x_normalized.shape[1]\n",
        "lr_theta = np.zeros(n)\n",
        "# lr_theta = np.random.randn(n,1)\n",
        "lr_theta = lr_theta.reshape(-1,1)\n",
        "# print('Theta values:')\n",
        "# print(lr_theta)\n",
        "\n",
        "predicted_y = predict(lr_theta,train_set_x_normalized)\n",
        "print(predicted_y.shape)\n",
        "print(train_set_y.shape)"
      ]
    },
    {
      "cell_type": "markdown",
      "metadata": {},
      "source": [
        "5. accurate\n",
        "\n",
        "Calculate accuracy percentage of the predictions.\n"
      ]
    },
    {
      "cell_type": "code",
      "execution_count": 10,
      "metadata": {},
      "outputs": [
        {
          "name": "stdout",
          "output_type": "stream",
          "text": [
            "0.4625\n"
          ]
        }
      ],
      "source": [
        "def accuracy(actual_y, predicted_y):\n",
        "    comparision = actual_y ==predicted_y\n",
        "    accuracy = comparision.mean()\n",
        "    return accuracy\n",
        "\n",
        "accuracy_score = accuracy(train_set_y,predicted_y)\n",
        "print(accuracy_score)"
      ]
    },
    {
      "cell_type": "markdown",
      "metadata": {},
      "source": [
        "6. coef_gd\n",
        "\n",
        "Estimate logistic regression coefficients using **vanilla gradient descent**. Using **the cross entropy loss**. Carefully choose learning rate and epochs values."
      ]
    },
    {
      "cell_type": "code",
      "execution_count": 11,
      "metadata": {},
      "outputs": [
        {
          "name": "stdout",
          "output_type": "stream",
          "text": [
            "For zero theta initialization:\n",
            "Accuracy -> 46.25%\n",
            "Loss -> 0.6931471785599453\n"
          ]
        }
      ],
      "source": [
        "def cross_entropy_loss(train_x,train_y,lr_theta):\n",
        "    \n",
        "    z = train_x.dot(lr_theta)\n",
        "\n",
        "    predicted_y = sigmoid(z)\n",
        "\n",
        "    class_zero_loss = train_y * np.log(predicted_y+1e-9)\n",
        "    class_one_loss = (1-train_y) * np.log(1 - predicted_y+1e-9)\n",
        "    loss =  - np.mean(class_zero_loss + class_one_loss)\n",
        "    return loss     \n",
        "    \n",
        "\n",
        "loss = cross_entropy_loss(train_set_x_normalized,train_set_y,lr_theta)\n",
        "\n",
        "print('For zero theta initialization:')\n",
        "print(f'Accuracy -> {accuracy_score*100}%')\n",
        "print(f'Loss -> {loss}')"
      ]
    },
    {
      "cell_type": "code",
      "execution_count": 12,
      "metadata": {},
      "outputs": [
        {
          "name": "stdout",
          "output_type": "stream",
          "text": [
            "Given:\n",
            "epoch--> 800\n",
            "alpha--> 0.1 \n",
            "\n",
            "Final values:\n",
            "Cost--> 0.02347434225366581, 0.028910924583946413\n",
            "Accuracy--> 1.0, 1.0\n"
          ]
        }
      ],
      "source": [
        "# Vanilla gradient descent to find the optimal fit\n",
        "\n",
        "def vanilla_gradient_descent(epoch,alpha,train_set_x_normalized,train_set_y,val_set_x_biased,val_set_y,lr_theta):\n",
        "    iterator = 0\n",
        "    lr_train_cost_history = [] \n",
        "    lr_val_cost_history = []\n",
        "    lr_train_accuracy_history = [] \n",
        "    lr_val_accuracy_history = []\n",
        "\n",
        "    m = train_set_x_normalized.shape[0]   \n",
        "\n",
        "    while iterator < epoch:\n",
        "        z = train_set_x_normalized.dot(lr_theta)\n",
        "\n",
        "        predicted_y_sigmoid = sigmoid(z)\n",
        "        diff = predicted_y_sigmoid-train_set_y     \n",
        "        update = train_set_x_normalized.T.dot(diff)        \n",
        "        lr_theta -= (alpha/m) * update\n",
        "        \n",
        "        lr_train_cost_history.append(cross_entropy_loss(train_set_x_normalized,train_set_y,lr_theta))\n",
        "        lr_val_cost_history.append(cross_entropy_loss(val_set_x_biased,val_set_y,lr_theta))\n",
        "\n",
        "        train_predicted_y = predict(lr_theta,train_set_x_normalized)\n",
        "        lr_train_accuracy_history.append(accuracy(train_set_y,train_predicted_y))\n",
        "\n",
        "        val_predicted_y = predict(lr_theta,val_set_x_biased)\n",
        "        lr_val_accuracy_history.append(accuracy(val_set_y,val_predicted_y))\n",
        "\n",
        "        iterator += 1\n",
        "    return lr_theta,lr_train_cost_history,lr_val_cost_history,lr_train_accuracy_history,lr_val_accuracy_history\n",
        "\n",
        "\n",
        "\n",
        "epoch = 800\n",
        "alpha = 0.1\n",
        "\n",
        "lr_theta = np.zeros(train_set_x_normalized.shape[1])\n",
        "lr_theta = lr_theta.reshape(-1,1)\n",
        "\n",
        "val_set_x_biased = np.concatenate((np.ones((val_set_y.shape[0],1)),val_set_x),axis=1)\n",
        "val_set_x_normalized = normalize(val_set_x_biased)\n",
        "lr_theta,lr_train_cost_history,lr_val_cost_history ,lr_train_accuracy_history,lr_val_accuracy_history= vanilla_gradient_descent(epoch,alpha,train_set_x_normalized,train_set_y,val_set_x_normalized, val_set_y, lr_theta)\n",
        "\n",
        "print(f'Given:\\nepoch--> {epoch}\\nalpha--> {alpha} ')\n",
        "print(f'\\nFinal values:\\nCost--> {lr_train_cost_history[-1]}, {lr_val_cost_history[-1]}\\nAccuracy--> {lr_train_accuracy_history[-1]}, {lr_val_accuracy_history[-1]}')\n",
        "\n",
        "\n"
      ]
    },
    {
      "cell_type": "markdown",
      "metadata": {},
      "source": [
        "7. draw_model\n",
        "\n",
        "a) Plot the both training loss and validation loss for each epochs.\n",
        "\n",
        "b) Plot the both training accuracy and validation accuracy for each epochs. \n",
        "\n",
        "\n"
      ]
    },
    {
      "cell_type": "code",
      "execution_count": 13,
      "metadata": {},
      "outputs": [
        {
          "data": {
            "image/png": "[encoded data removed]",
            "text/plain": [
              "<Figure size 1200x600 with 2 Axes>"
            ]
          },
          "metadata": {},
          "output_type": "display_data"
        }
      ],
      "source": [
        "plt.figure(figsize=(12, 6))\n",
        "plt.subplot(1, 2, 1)\n",
        "plt.plot(range(len(lr_train_cost_history)), lr_train_cost_history, label='Train Loss')\n",
        "plt.plot(range(len(lr_val_cost_history)), lr_val_cost_history, label='Validation Loss')\n",
        "plt.title('Training and Validation Loss')\n",
        "plt.xlabel('Epochs')\n",
        "plt.ylabel('Loss')\n",
        "plt.legend()\n",
        "\n",
        "\n",
        "plt.subplot(1, 2, 2)\n",
        "plt.plot(range(len(lr_train_accuracy_history)), lr_train_accuracy_history, label='Train Acuuracy')\n",
        "plt.plot(range(len(lr_val_accuracy_history)), lr_val_accuracy_history, label='Validation Accuracy')\n",
        "plt.title('Training and Validation Accuracy')\n",
        "plt.xlabel('Epochs')\n",
        "plt.ylabel('Accuracy')\n",
        "plt.legend()\n",
        "\n",
        "plt.show()"
      ]
    },
    {
      "cell_type": "markdown",
      "metadata": {},
      "source": [
        "8. predict the testing data\n",
        "\n",
        "Use your pre-trained model to predict the testing data. Print out your **testing accurate**. Is it good? If not, analyze the reason in short and modify your code to improve.  "
      ]
    },
    {
      "cell_type": "code",
      "execution_count": 14,
      "metadata": {},
      "outputs": [
        {
          "name": "stdout",
          "output_type": "stream",
          "text": [
            "1.0\n"
          ]
        }
      ],
      "source": [
        "test_x_biased = bias(test_x)\n",
        "test_x_normalized = normalize(test_x_biased)\n",
        "test_predicted_y = predict(lr_theta,test_x_normalized)\n",
        "test_y = test_y.reshape(-1,1)\n",
        "print(accuracy(test_y,test_predicted_y))\n",
        "#    print(test_x_normalized.shape, test_y.shape)"
      ]
    },
    {
      "cell_type": "markdown",
      "metadata": {},
      "source": [
        "The testing accuracy for the model is good. It varies depending on the epoch and learning rate we set in the model. Tried multiple values of learning rate(alpha) and epochs and identified the best values on comparison for training and testing accuracy. Based on the comparison,the learning rate is set  to make the optimisation procedure more stable and effective, and epoch number to make sure the model will converge therby having reasonable trraining and testing cost\n"
      ]
    },
    {
      "cell_type": "markdown",
      "metadata": {
        "id": "7eNsYoFL7pOG"
      },
      "source": [
        "### - Naive Bayes Classifier"
      ]
    },
    {
      "cell_type": "markdown",
      "metadata": {
        "id": "HTuXPz9V8jIA"
      },
      "source": [
        "In this part, you are going to implement your own naive bayes classifier. \n",
        "You need to implement naive bayes classifier from scratch **using the training data of wine datasets train_x and train_y**. The required functions are listed below. You can add more functions as you need. **No library versions of naive bayes classifier are allowed**. \n",
        "_________\n",
        "\n",
        "1. train_val_split\n",
        "\n",
        "**Randomly** split training data into train and val set. 80% of the training data will be the train set and 20% of the training data will be the val set.\n",
        "\n",
        "2. normalization (data preprocessing)\n",
        "\n",
        "You should normalize all data for each attribute firstly. \n",
        "\n",
        "3. cross_validation_split\n",
        "\n",
        "**Randomly** split data into 5 folds.\n",
        "\n",
        "\n",
        "4. predict\n",
        "\n",
        "Predict the class label for a given x. \n",
        "\n",
        "5. accurate\n",
        "\n",
        "Calculate accuracy percentage of the predictions. Remember to average the results of k folds\n",
        "\n",
        "6. gaussian_probability\n",
        "\n",
        "Calculate the Gaussian probability distribution function for the given x. \n",
        "\n",
        "![Image_20210920015911.png](data:image/png;base64,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)\n",
        "\n",
        "\n",
        "5. class_probability\n",
        "\n",
        "Calculate the probabilities of predicting each class for a given x using naive bayes algorithm. Be aware that we have multiple input variables. And you may want to use gaussian_probability function here.\n",
        "\n",
        "*Print out your accuracy result. Is it good? If not, analyze the reason in short. *\n"
      ]
    },
    {
      "cell_type": "markdown",
      "metadata": {},
      "source": [
        "1. train_val_split\n",
        "\n",
        "**Randomly** split training data into train and val set. 80% of the training data will be the train set and 20% of the training data will be the val set.\n"
      ]
    },
    {
      "cell_type": "code",
      "execution_count": 15,
      "metadata": {
        "id": "f-jO9XrADS92"
      },
      "outputs": [],
      "source": [
        "def nb_train_val_split(train_x,train_y):\n",
        "\n",
        "   from sklearn.model_selection import train_test_split\n",
        "   nb_train_x, nb_val_x, nb_train_y, nb_val_y = train_test_split(train_x, train_y, test_size=0.2, random_state=10)\n",
        "   nb_train_y = nb_train_y.reshape(-1,1)\n",
        "   nb_val_y = nb_val_y.reshape(-1,1)\n",
        "\n",
        "   return nb_train_x, nb_val_x, nb_train_y, nb_val_y"
      ]
    },
    {
      "cell_type": "markdown",
      "metadata": {},
      "source": [
        "2. normalization (data preprocessing)\n",
        "\n",
        "You should normalize all data for each attribute firstly. \n",
        "\n"
      ]
    },
    {
      "cell_type": "code",
      "execution_count": 16,
      "metadata": {},
      "outputs": [],
      "source": [
        "\n",
        "    \n",
        "def normalize(feature_vector):\n",
        "   \n",
        "\n",
        "   mean = np.mean(feature_vector, axis=0)\n",
        "   max = np.amax(feature_vector, axis=0)\n",
        "   min = np.amin(feature_vector, axis=0)\n",
        "   normalized_feature_vector=(feature_vector-mean)/(max-min)\n",
        "   \n",
        "   # mean = np.mean(feature_vector,axis=0)\n",
        "   # std = np.std(feature_vector,axis=0)    \n",
        "   # normalized_feature_vector = (feature_vector - mean ) / (std)\n",
        "    \n",
        "   return normalized_feature_vector\n"
      ]
    },
    {
      "cell_type": "markdown",
      "metadata": {},
      "source": [
        "3. cross_validation_split\n",
        "\n",
        "**Randomly** split data into 5 folds.\n",
        "\n"
      ]
    },
    {
      "cell_type": "code",
      "execution_count": 17,
      "metadata": {},
      "outputs": [],
      "source": [
        "def cross_validation_split(train_x,train_y,num_folds):\n",
        "   \n",
        "    total = len(train_y)\n",
        " \n",
        "    fold_size = total // num_folds\n",
        "    train = np.column_stack((train_x,train_y))\n",
        "  \n",
        "    np.random.shuffle(train)\n",
        "    folds = []\n",
        "\n",
        "    for i in range (num_folds):\n",
        "        start = i*fold_size\n",
        "        end = start+fold_size\n",
        "        fold = train[start:end]\n",
        "        \n",
        "        fold_x = fold[:, :-1]\n",
        "        fold_y = fold[:, -1].astype(int).reshape(-1,1)\n",
        "        \n",
        "\n",
        "        folds.append((fold_x,fold_y))\n",
        "\n",
        "    return folds    "
      ]
    },
    {
      "cell_type": "code",
      "execution_count": 18,
      "metadata": {},
      "outputs": [],
      "source": [
        "def train_val_set_creation(folds,val_fold_index):\n",
        "    \n",
        "    nb_train_set_x = []\n",
        "    nb_train_set_y = []\n",
        "\n",
        "    for i,fold in enumerate(folds):\n",
        "        if i == val_fold_index:\n",
        "            nb_val_set_x, nb_val_set_y = fold\n",
        "        else:\n",
        "            nb_train_set_x.append(fold[0])\n",
        "            nb_train_set_y.append(fold[1])\n",
        "    \n",
        "\n",
        "    nb_train_set_x = np.concatenate(nb_train_set_x)\n",
        "    nb_train_set_y = np.concatenate(nb_train_set_y)\n",
        "    \n",
        "    # nb_val_set_y = nb_val_set_y.reshape(-1,1)\n",
        "    # nb_train_set_y = nb_train_set_y.reshape(-1,1)\n",
        "\n",
        "    return nb_train_set_x,nb_train_set_y,nb_val_set_x,nb_val_set_y\n"
      ]
    },
    {
      "cell_type": "markdown",
      "metadata": {},
      "source": [
        "\n",
        "4. predict\n",
        "\n",
        "Predict the class label for a given x. \n",
        "\n",
        "5. accurate\n",
        "\n",
        "Calculate accuracy percentage of the predictions. Remember to average the results of k folds\n",
        "\n",
        "6. gaussian_probability\n",
        "Calculate the Gaussian probability distribution function for the given x. \n",
        "\n",
        "5. class_probability\n",
        "\n",
        "Calculate the probabilities of predicting each class for a given x using naive bayes algorithm. Be aware that we have multiple input variables. And you may want to use gaussian_probability function here.\n",
        "\n",
        "*Print out your accuracy result. Is it good? If not, analyze the reason in short. *"
      ]
    },
    {
      "cell_type": "code",
      "execution_count": 19,
      "metadata": {},
      "outputs": [],
      "source": [
        "def prior_prob_fn(train_y):\n",
        "    classes, count = np.unique(train_y, return_counts=True)\n",
        "    num_classes = len(classes)\n",
        "    prior_prob = np.zeros(num_classes)\n",
        "    for index in range(num_classes):        \n",
        "        prior_prob[index] = count[index] / train_y.shape[0]    \n",
        "    return np.log(prior_prob)"
      ]
    },
    {
      "cell_type": "code",
      "execution_count": 20,
      "metadata": {},
      "outputs": [],
      "source": [
        "def mu_sigma(train_x,train_y):\n",
        "    \n",
        "    classes = np.unique(train_y)\n",
        "    num_classes = len(classes)\n",
        "    num_features = train_x.shape[1]\n",
        "    mu = np.zeros((num_classes,num_features))\n",
        "    sigma = np.zeros((num_classes,num_features))\n",
        "\n",
        "    for clas in classes:\n",
        "            class_features = train_x[np.where(train_y==clas)]\n",
        "            mu[clas, :] = np.mean(class_features,axis=0)\n",
        "            sigma[clas, :] = np.std(class_features,axis=0)\n",
        "               \n",
        "    return mu, sigma"
      ]
    },
    {
      "cell_type": "code",
      "execution_count": 21,
      "metadata": {},
      "outputs": [],
      "source": [
        "def gaussian_prob(X,mu,sigma): \n",
        "    cls_cond_prob = []   \n",
        "    \n",
        "    for index in range(mu.shape[0]):\n",
        "        numerator = np.exp(-(1/2)*((X - mu[index])/sigma[index])**2)\n",
        "        denominator = sigma[index] * np.sqrt(2*np.pi)\n",
        "        prob = (numerator/denominator)\n",
        "        \n",
        "        cls_cond_prob.append(prob)\n",
        "        \n",
        "\n",
        "    return cls_cond_prob"
      ]
    },
    {
      "cell_type": "code",
      "execution_count": 22,
      "metadata": {},
      "outputs": [],
      "source": [
        "def class_prob(Y,prior_prob,cls_cond_prob):\n",
        "    classes = np.unique(Y)\n",
        "    posterior_prob = []\n",
        "    for index in range(len(classes)):\n",
        "            prior = prior_prob[index]\n",
        "            posterior = np.sum(np.log(cls_cond_prob[index]),axis=1)\n",
        "            posterior = prior + posterior            \n",
        "            posterior_prob.append(posterior)\n",
        "\n",
        "    posterior_prob = np.array(posterior_prob).T\n",
        "\n",
        "    return posterior_prob\n"
      ]
    },
    {
      "cell_type": "code",
      "execution_count": 23,
      "metadata": {},
      "outputs": [],
      "source": [
        "def nb_predict(posterior_prob):\n",
        "    \n",
        "    return np.argmax(posterior_prob, axis = 1).reshape(-1,1)"
      ]
    },
    {
      "cell_type": "code",
      "execution_count": 24,
      "metadata": {},
      "outputs": [],
      "source": [
        "def nb_accuracy(actual_y, nb_predicted_y):\n",
        "    accuracy = np.sum(actual_y == nb_predicted_y) / len(actual_y)\n",
        "    return accuracy"
      ]
    },
    {
      "cell_type": "code",
      "execution_count": 25,
      "metadata": {},
      "outputs": [
        {
          "name": "stdout",
          "output_type": "stream",
          "text": [
            "Average fold accuracy -> 0.86\n"
          ]
        }
      ],
      "source": [
        "# Reshape, bias, normalize the original x and y sets\n",
        "\n",
        "train_y = train_y.reshape(-1,1)\n",
        "test_y = test_y.reshape(-1,1)\n",
        "\n",
        "train_x = normalize(train_x)\n",
        "\n",
        "test_x = normalize(test_x)\n",
        "\n",
        "\n",
        "num_folds = 5\n",
        "accuracy = []\n",
        "\n",
        "folds = cross_validation_split(train_x,train_y,num_folds)\n",
        "\n",
        "for val_fold_index in range(num_folds):\n",
        "\n",
        "    nb_train_set_x,nb_train_set_y,nb_val_set_x,nb_val_set_y = train_val_set_creation(folds,val_fold_index)\n",
        "\n",
        "    prior_prob = prior_prob_fn(nb_train_set_y)  \n",
        "    mu,sigma = mu_sigma(nb_train_set_x,nb_train_set_y)\n",
        "\n",
        "    cls_cond_prob = gaussian_prob(nb_val_set_x,mu,sigma)\n",
        "    \n",
        "    posterior_prob = class_prob(nb_val_set_y,prior_prob,cls_cond_prob)\n",
        "    \n",
        "    \n",
        "    nb_predicted_y= nb_predict(posterior_prob)\n",
        "    fold_accuracy = nb_accuracy(nb_val_set_y,nb_predicted_y)\n",
        "    accuracy.append(fold_accuracy)\n",
        "\n",
        "    final_accuracy = np.mean(accuracy)\n",
        "\n",
        "print(f'Average fold accuracy -> {final_accuracy:.2f}') "
      ]
    },
    {
      "cell_type": "code",
      "execution_count": 26,
      "metadata": {},
      "outputs": [
        {
          "name": "stdout",
          "output_type": "stream",
          "text": [
            "Test accuracy -> 0.93\n"
          ]
        }
      ],
      "source": [
        "prior_prob = prior_prob_fn(train_y)  \n",
        "mu,sigma = mu_sigma(train_x,train_y)\n",
        "\n",
        "cls_cond_prob = gaussian_prob(test_x,mu,sigma)\n",
        "\n",
        "posterior_prob = class_prob(test_y,prior_prob,cls_cond_prob)\n",
        "\n",
        "nb_predicted_y= nb_predict(posterior_prob)\n",
        "\n",
        "test_accuracy = nb_accuracy(test_y,nb_predicted_y)\n",
        "\n",
        "print(f'Test accuracy -> {test_accuracy:.2f}')"
      ]
    }
  ],
  "metadata": {
    "colab": {
      "provenance": []
    },
    "kernelspec": {
      "display_name": "Python 3",
      "language": "python",
      "name": "python3"
    },
    "language_info": {
      "codemirror_mode": {
        "name": "ipython",
        "version": 3
      },
      "file_extension": ".py",
      "mimetype": "text/x-python",
      "name": "python",
      "nbconvert_exporter": "python",
      "pygments_lexer": "ipython3",
      "version": "3.11.8"
    },
    "pycharm": {
      "stem_cell": {
        "cell_type": "raw",
        "metadata": {
          "collapsed": false
        },
        "source": []
      }
    }
  },
  "nbformat": 4,
  "nbformat_minor": 0
}
